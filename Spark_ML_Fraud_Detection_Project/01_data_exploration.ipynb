{
 "cells": [
  {
   "cell_type": "code",
   "execution_count": 2,
   "id": "fee6ed09-412e-4af9-a5f6-5413797c2186",
   "metadata": {},
   "outputs": [],
   "source": [
    "# Credit Card Fraud Detection: Data Exploration\n",
    "\n",
    "import pandas as pd\n",
    "import numpy as np\n",
    "import matplotlib.pyplot as plt\n",
    "import seaborn as sns\n",
    "from pyspark.sql import SparkSession\n",
    "from pyspark.sql.functions import *\n",
    "from pyspark.sql.types import *\n",
    "import warnings\n",
    "warnings.filterwarnings(\"ignore\")"
   ]
  },
  {
   "cell_type": "code",
   "execution_count": 3,
   "id": "00b3c668-c6b0-4528-961d-0b0cb0e3ef8f",
   "metadata": {},
   "outputs": [
    {
     "name": "stdout",
     "output_type": "stream",
     "text": [
      "=== Credit Card Fraud Detection Project ===\n",
      "Data Exploration and Understanding\n",
      "This project simulates risk modeling work similar to Visa's data science team\n"
     ]
    }
   ],
   "source": [
    "# Set up plotting style\n",
    "plt.style.use(\"default\")\n",
    "sns.set_palette(\"husl\")\n",
    "# \"husl\"是一個特定的色彩空間，提供均勻分布的鮮艷顏色\n",
    "# husl stands for Hue(色調), Saturation(飽和度), Lightness(亮度)\n",
    "\n",
    "print(\"=== Credit Card Fraud Detection Project ===\")\n",
    "print(\"Data Exploration and Understanding\")\n",
    "print(\"This project simulates risk modeling work similar to Visa's data science team\")"
   ]
  },
  {
   "cell_type": "code",
   "execution_count": 4,
   "id": "4f8cf65e-7aef-4728-9992-eb422dca11cf",
   "metadata": {},
   "outputs": [
    {
     "name": "stdout",
     "output_type": "stream",
     "text": [
      "\n",
      "1. Setting up Spark Session...\n"
     ]
    },
    {
     "name": "stderr",
     "output_type": "stream",
     "text": [
      "WARNING: Using incubator modules: jdk.incubator.vector\n",
      "Using Spark's default log4j profile: org/apache/spark/log4j2-defaults.properties\n",
      "25/07/28 07:52:37 WARN Utils: Your hostname, Howards-MacBook-Air.local, resolves to a loopback address: 127.0.0.1; using 10.74.245.116 instead (on interface en0)\n",
      "25/07/28 07:52:37 WARN Utils: Set SPARK_LOCAL_IP if you need to bind to another address\n",
      "Using Spark's default log4j profile: org/apache/spark/log4j2-defaults.properties\n",
      "Setting default log level to \"WARN\".\n",
      "To adjust logging level use sc.setLogLevel(newLevel). For SparkR, use setLogLevel(newLevel).\n",
      "25/07/28 07:52:37 WARN NativeCodeLoader: Unable to load native-hadoop library for your platform... using builtin-java classes where applicable\n"
     ]
    },
    {
     "name": "stdout",
     "output_type": "stream",
     "text": [
      "Spark Version: 4.0.0\n",
      "Spark UI avaliable at: http://10.74.245.116:4040\n"
     ]
    }
   ],
   "source": [
    "# ============================================================================\n",
    "# 1. SPARK SESSION SETUP\n",
    "# ============================================================================\n",
    "\n",
    "print(\"\\n1. Setting up Spark Session...\")\n",
    "\n",
    "# Create Spark Session for local environment\n",
    "# 開始建立spark的建構器模式\n",
    "# 命名\n",
    "# 設置Driver程式的記憶體為4g\n",
    "# 啟用自適應查詢執行。Spark會在運行時動態優化查詢計劃，並根據實際數據大小調整策略\n",
    "# 啟用自適應分區合併\n",
    "spark = SparkSession.builder \\\n",
    "    .appName(\"CreditCardFraudDetection\") \\\n",
    "    .config(\"spark.driver.memory\", \"4g\") \\\n",
    "    .config(\"spark.sql.adaptive.enabled\", \"true\") \\\n",
    "    .config(\"spark.sql.adaptive.coalescePartitions.enabled\", \"true\") \\\n",
    "    .getOrCreate()\n",
    "\n",
    "print(f\"Spark Version: {spark.version}\")\n",
    "print(f\"Spark UI avaliable at: {spark.sparkContext.uiWebUrl}\")"
   ]
  },
  {
   "cell_type": "code",
   "execution_count": 5,
   "id": "cbd1a939-fe1e-4cb7-9540-da24fdb73346",
   "metadata": {},
   "outputs": [
    {
     "name": "stderr",
     "output_type": "stream",
     "text": [
      "[Stage 2:>                                                          (0 + 8) / 8]\r"
     ]
    },
    {
     "name": "stdout",
     "output_type": "stream",
     "text": [
      "Dataset shape: 568630 rows, 31 columns\n",
      "Column names: ['id', 'V1', 'V2', 'V3', 'V4', 'V5', 'V6', 'V7', 'V8', 'V9', 'V10', 'V11', 'V12', 'V13', 'V14', 'V15', 'V16', 'V17', 'V18', 'V19', 'V20', 'V21', 'V22', 'V23', 'V24', 'V25', 'V26', 'V27', 'V28', 'Amount', 'Class']\n",
      "\n",
      "Dataset Schema:\n",
      "root\n",
      " |-- id: integer (nullable = true)\n",
      " |-- V1: double (nullable = true)\n",
      " |-- V2: double (nullable = true)\n",
      " |-- V3: double (nullable = true)\n",
      " |-- V4: double (nullable = true)\n",
      " |-- V5: double (nullable = true)\n",
      " |-- V6: double (nullable = true)\n",
      " |-- V7: double (nullable = true)\n",
      " |-- V8: double (nullable = true)\n",
      " |-- V9: double (nullable = true)\n",
      " |-- V10: double (nullable = true)\n",
      " |-- V11: double (nullable = true)\n",
      " |-- V12: double (nullable = true)\n",
      " |-- V13: double (nullable = true)\n",
      " |-- V14: double (nullable = true)\n",
      " |-- V15: double (nullable = true)\n",
      " |-- V16: double (nullable = true)\n",
      " |-- V17: double (nullable = true)\n",
      " |-- V18: double (nullable = true)\n",
      " |-- V19: double (nullable = true)\n",
      " |-- V20: double (nullable = true)\n",
      " |-- V21: double (nullable = true)\n",
      " |-- V22: double (nullable = true)\n",
      " |-- V23: double (nullable = true)\n",
      " |-- V24: double (nullable = true)\n",
      " |-- V25: double (nullable = true)\n",
      " |-- V26: double (nullable = true)\n",
      " |-- V27: double (nullable = true)\n",
      " |-- V28: double (nullable = true)\n",
      " |-- Amount: double (nullable = true)\n",
      " |-- Class: integer (nullable = true)\n",
      "\n"
     ]
    },
    {
     "name": "stderr",
     "output_type": "stream",
     "text": [
      "                                                                                \r"
     ]
    }
   ],
   "source": [
    "# ============================================================================\n",
    "# 2. DATA LOADING\n",
    "# ============================================================================\n",
    "\n",
    "df_spark = spark.read.csv(\"./creditcard_2023.csv\", header=True, inferSchema=True)\n",
    "\n",
    "print(f\"Dataset shape: {df_spark.count()} rows, {len(df_spark.columns)} columns\")\n",
    "print(f\"Column names: {df_spark.columns}\")\n",
    "\n",
    "# Display basic info about the dataset\n",
    "print(\"\\nDataset Schema:\")\n",
    "df_spark.printSchema()"
   ]
  },
  {
   "cell_type": "code",
   "execution_count": 6,
   "id": "8a4a74ab-b465-44cd-9647-6610ede18549",
   "metadata": {},
   "outputs": [
    {
     "name": "stderr",
     "output_type": "stream",
     "text": [
      "25/07/28 07:52:45 WARN SparkStringUtils: Truncated the string representation of a plan since it was too large. This behavior can be adjusted by setting 'spark.sql.debug.maxToStringFields'.\n"
     ]
    },
    {
     "name": "stdout",
     "output_type": "stream",
     "text": [
      "\n",
      "3. Initial Data Exploration...\n"
     ]
    },
    {
     "name": "stderr",
     "output_type": "stream",
     "text": [
      "                                                                                \r"
     ]
    },
    {
     "name": "stdout",
     "output_type": "stream",
     "text": [
      "Memory Usage: 130.15 MB\n"
     ]
    },
    {
     "data": {
      "text/html": [
       "<div>\n",
       "<style scoped>\n",
       "    .dataframe tbody tr th:only-of-type {\n",
       "        vertical-align: middle;\n",
       "    }\n",
       "\n",
       "    .dataframe tbody tr th {\n",
       "        vertical-align: top;\n",
       "    }\n",
       "\n",
       "    .dataframe thead th {\n",
       "        text-align: right;\n",
       "    }\n",
       "</style>\n",
       "<table border=\"1\" class=\"dataframe\">\n",
       "  <thead>\n",
       "    <tr style=\"text-align: right;\">\n",
       "      <th></th>\n",
       "      <th>id</th>\n",
       "      <th>V1</th>\n",
       "      <th>V2</th>\n",
       "      <th>V3</th>\n",
       "      <th>V4</th>\n",
       "      <th>V5</th>\n",
       "      <th>V6</th>\n",
       "      <th>V7</th>\n",
       "      <th>V8</th>\n",
       "      <th>V9</th>\n",
       "      <th>...</th>\n",
       "      <th>V21</th>\n",
       "      <th>V22</th>\n",
       "      <th>V23</th>\n",
       "      <th>V24</th>\n",
       "      <th>V25</th>\n",
       "      <th>V26</th>\n",
       "      <th>V27</th>\n",
       "      <th>V28</th>\n",
       "      <th>Amount</th>\n",
       "      <th>Class</th>\n",
       "    </tr>\n",
       "  </thead>\n",
       "  <tbody>\n",
       "    <tr>\n",
       "      <th>count</th>\n",
       "      <td>568630.000000</td>\n",
       "      <td>5.686300e+05</td>\n",
       "      <td>5.686300e+05</td>\n",
       "      <td>5.686300e+05</td>\n",
       "      <td>5.686300e+05</td>\n",
       "      <td>5.686300e+05</td>\n",
       "      <td>5.686300e+05</td>\n",
       "      <td>5.686300e+05</td>\n",
       "      <td>5.686300e+05</td>\n",
       "      <td>5.686300e+05</td>\n",
       "      <td>...</td>\n",
       "      <td>5.686300e+05</td>\n",
       "      <td>5.686300e+05</td>\n",
       "      <td>5.686300e+05</td>\n",
       "      <td>5.686300e+05</td>\n",
       "      <td>5.686300e+05</td>\n",
       "      <td>5.686300e+05</td>\n",
       "      <td>5.686300e+05</td>\n",
       "      <td>5.686300e+05</td>\n",
       "      <td>568630.000000</td>\n",
       "      <td>568630.0</td>\n",
       "    </tr>\n",
       "    <tr>\n",
       "      <th>mean</th>\n",
       "      <td>284314.500000</td>\n",
       "      <td>-5.638058e-17</td>\n",
       "      <td>-1.323544e-16</td>\n",
       "      <td>-3.518788e-17</td>\n",
       "      <td>-2.879008e-17</td>\n",
       "      <td>5.837989e-17</td>\n",
       "      <td>-3.918650e-17</td>\n",
       "      <td>-3.358843e-17</td>\n",
       "      <td>1.059635e-17</td>\n",
       "      <td>3.998623e-17</td>\n",
       "      <td>...</td>\n",
       "      <td>2.539125e-17</td>\n",
       "      <td>3.623752e-18</td>\n",
       "      <td>-1.802504e-18</td>\n",
       "      <td>-1.469494e-17</td>\n",
       "      <td>-3.228888e-17</td>\n",
       "      <td>-7.797314e-18</td>\n",
       "      <td>-3.598760e-17</td>\n",
       "      <td>2.579112e-17</td>\n",
       "      <td>12041.957635</td>\n",
       "      <td>0.5</td>\n",
       "    </tr>\n",
       "    <tr>\n",
       "      <th>std</th>\n",
       "      <td>164149.486121</td>\n",
       "      <td>1.000001e+00</td>\n",
       "      <td>1.000001e+00</td>\n",
       "      <td>1.000001e+00</td>\n",
       "      <td>1.000001e+00</td>\n",
       "      <td>1.000001e+00</td>\n",
       "      <td>1.000001e+00</td>\n",
       "      <td>1.000001e+00</td>\n",
       "      <td>1.000001e+00</td>\n",
       "      <td>1.000001e+00</td>\n",
       "      <td>...</td>\n",
       "      <td>1.000001e+00</td>\n",
       "      <td>1.000001e+00</td>\n",
       "      <td>1.000001e+00</td>\n",
       "      <td>1.000001e+00</td>\n",
       "      <td>1.000001e+00</td>\n",
       "      <td>1.000001e+00</td>\n",
       "      <td>1.000001e+00</td>\n",
       "      <td>1.000001e+00</td>\n",
       "      <td>6919.644449</td>\n",
       "      <td>0.5</td>\n",
       "    </tr>\n",
       "    <tr>\n",
       "      <th>min</th>\n",
       "      <td>0.000000</td>\n",
       "      <td>-3.495584e+00</td>\n",
       "      <td>-4.996657e+01</td>\n",
       "      <td>-3.183760e+00</td>\n",
       "      <td>-4.951222e+00</td>\n",
       "      <td>-9.952786e+00</td>\n",
       "      <td>-2.111111e+01</td>\n",
       "      <td>-4.351839e+00</td>\n",
       "      <td>-1.075634e+01</td>\n",
       "      <td>-3.751919e+00</td>\n",
       "      <td>...</td>\n",
       "      <td>-1.938252e+01</td>\n",
       "      <td>-7.734798e+00</td>\n",
       "      <td>-3.029545e+01</td>\n",
       "      <td>-4.067968e+00</td>\n",
       "      <td>-1.361263e+01</td>\n",
       "      <td>-8.226969e+00</td>\n",
       "      <td>-1.049863e+01</td>\n",
       "      <td>-3.903524e+01</td>\n",
       "      <td>50.010000</td>\n",
       "      <td>0.0</td>\n",
       "    </tr>\n",
       "    <tr>\n",
       "      <th>25%</th>\n",
       "      <td>142157.250000</td>\n",
       "      <td>-5.652859e-01</td>\n",
       "      <td>-4.866777e-01</td>\n",
       "      <td>-6.492987e-01</td>\n",
       "      <td>-6.560203e-01</td>\n",
       "      <td>-2.934955e-01</td>\n",
       "      <td>-4.458712e-01</td>\n",
       "      <td>-2.835329e-01</td>\n",
       "      <td>-1.922572e-01</td>\n",
       "      <td>-5.687446e-01</td>\n",
       "      <td>...</td>\n",
       "      <td>-1.664408e-01</td>\n",
       "      <td>-4.904892e-01</td>\n",
       "      <td>-2.376289e-01</td>\n",
       "      <td>-6.515801e-01</td>\n",
       "      <td>-5.541485e-01</td>\n",
       "      <td>-6.318948e-01</td>\n",
       "      <td>-3.049607e-01</td>\n",
       "      <td>-2.318783e-01</td>\n",
       "      <td>6054.892500</td>\n",
       "      <td>0.0</td>\n",
       "    </tr>\n",
       "    <tr>\n",
       "      <th>50%</th>\n",
       "      <td>284314.500000</td>\n",
       "      <td>-9.363846e-02</td>\n",
       "      <td>-1.358939e-01</td>\n",
       "      <td>3.528579e-04</td>\n",
       "      <td>-7.376152e-02</td>\n",
       "      <td>8.108788e-02</td>\n",
       "      <td>7.871758e-02</td>\n",
       "      <td>2.333659e-01</td>\n",
       "      <td>-1.145242e-01</td>\n",
       "      <td>9.252647e-02</td>\n",
       "      <td>...</td>\n",
       "      <td>-3.743065e-02</td>\n",
       "      <td>-2.732881e-02</td>\n",
       "      <td>-5.968903e-02</td>\n",
       "      <td>1.590123e-02</td>\n",
       "      <td>-8.193162e-03</td>\n",
       "      <td>-1.189208e-02</td>\n",
       "      <td>-1.729111e-01</td>\n",
       "      <td>-1.392973e-02</td>\n",
       "      <td>12030.150000</td>\n",
       "      <td>0.5</td>\n",
       "    </tr>\n",
       "    <tr>\n",
       "      <th>75%</th>\n",
       "      <td>426471.750000</td>\n",
       "      <td>8.326582e-01</td>\n",
       "      <td>3.435552e-01</td>\n",
       "      <td>6.285380e-01</td>\n",
       "      <td>7.070047e-01</td>\n",
       "      <td>4.397368e-01</td>\n",
       "      <td>4.977881e-01</td>\n",
       "      <td>5.259548e-01</td>\n",
       "      <td>4.729905e-02</td>\n",
       "      <td>5.592621e-01</td>\n",
       "      <td>...</td>\n",
       "      <td>1.479787e-01</td>\n",
       "      <td>4.638817e-01</td>\n",
       "      <td>1.557153e-01</td>\n",
       "      <td>7.007374e-01</td>\n",
       "      <td>5.500147e-01</td>\n",
       "      <td>6.728879e-01</td>\n",
       "      <td>3.340230e-01</td>\n",
       "      <td>4.095903e-01</td>\n",
       "      <td>18036.330000</td>\n",
       "      <td>1.0</td>\n",
       "    </tr>\n",
       "    <tr>\n",
       "      <th>max</th>\n",
       "      <td>568629.000000</td>\n",
       "      <td>2.229046e+00</td>\n",
       "      <td>4.361865e+00</td>\n",
       "      <td>1.412583e+01</td>\n",
       "      <td>3.201536e+00</td>\n",
       "      <td>4.271689e+01</td>\n",
       "      <td>2.616840e+01</td>\n",
       "      <td>2.178730e+02</td>\n",
       "      <td>5.958040e+00</td>\n",
       "      <td>2.027006e+01</td>\n",
       "      <td>...</td>\n",
       "      <td>8.087080e+00</td>\n",
       "      <td>1.263251e+01</td>\n",
       "      <td>3.170763e+01</td>\n",
       "      <td>1.296564e+01</td>\n",
       "      <td>1.462151e+01</td>\n",
       "      <td>5.623285e+00</td>\n",
       "      <td>1.132311e+02</td>\n",
       "      <td>7.725594e+01</td>\n",
       "      <td>24039.930000</td>\n",
       "      <td>1.0</td>\n",
       "    </tr>\n",
       "  </tbody>\n",
       "</table>\n",
       "<p>8 rows × 31 columns</p>\n",
       "</div>"
      ],
      "text/plain": [
       "                  id            V1            V2            V3            V4  \\\n",
       "count  568630.000000  5.686300e+05  5.686300e+05  5.686300e+05  5.686300e+05   \n",
       "mean   284314.500000 -5.638058e-17 -1.323544e-16 -3.518788e-17 -2.879008e-17   \n",
       "std    164149.486121  1.000001e+00  1.000001e+00  1.000001e+00  1.000001e+00   \n",
       "min         0.000000 -3.495584e+00 -4.996657e+01 -3.183760e+00 -4.951222e+00   \n",
       "25%    142157.250000 -5.652859e-01 -4.866777e-01 -6.492987e-01 -6.560203e-01   \n",
       "50%    284314.500000 -9.363846e-02 -1.358939e-01  3.528579e-04 -7.376152e-02   \n",
       "75%    426471.750000  8.326582e-01  3.435552e-01  6.285380e-01  7.070047e-01   \n",
       "max    568629.000000  2.229046e+00  4.361865e+00  1.412583e+01  3.201536e+00   \n",
       "\n",
       "                 V5            V6            V7            V8            V9  \\\n",
       "count  5.686300e+05  5.686300e+05  5.686300e+05  5.686300e+05  5.686300e+05   \n",
       "mean   5.837989e-17 -3.918650e-17 -3.358843e-17  1.059635e-17  3.998623e-17   \n",
       "std    1.000001e+00  1.000001e+00  1.000001e+00  1.000001e+00  1.000001e+00   \n",
       "min   -9.952786e+00 -2.111111e+01 -4.351839e+00 -1.075634e+01 -3.751919e+00   \n",
       "25%   -2.934955e-01 -4.458712e-01 -2.835329e-01 -1.922572e-01 -5.687446e-01   \n",
       "50%    8.108788e-02  7.871758e-02  2.333659e-01 -1.145242e-01  9.252647e-02   \n",
       "75%    4.397368e-01  4.977881e-01  5.259548e-01  4.729905e-02  5.592621e-01   \n",
       "max    4.271689e+01  2.616840e+01  2.178730e+02  5.958040e+00  2.027006e+01   \n",
       "\n",
       "       ...           V21           V22           V23           V24  \\\n",
       "count  ...  5.686300e+05  5.686300e+05  5.686300e+05  5.686300e+05   \n",
       "mean   ...  2.539125e-17  3.623752e-18 -1.802504e-18 -1.469494e-17   \n",
       "std    ...  1.000001e+00  1.000001e+00  1.000001e+00  1.000001e+00   \n",
       "min    ... -1.938252e+01 -7.734798e+00 -3.029545e+01 -4.067968e+00   \n",
       "25%    ... -1.664408e-01 -4.904892e-01 -2.376289e-01 -6.515801e-01   \n",
       "50%    ... -3.743065e-02 -2.732881e-02 -5.968903e-02  1.590123e-02   \n",
       "75%    ...  1.479787e-01  4.638817e-01  1.557153e-01  7.007374e-01   \n",
       "max    ...  8.087080e+00  1.263251e+01  3.170763e+01  1.296564e+01   \n",
       "\n",
       "                V25           V26           V27           V28         Amount  \\\n",
       "count  5.686300e+05  5.686300e+05  5.686300e+05  5.686300e+05  568630.000000   \n",
       "mean  -3.228888e-17 -7.797314e-18 -3.598760e-17  2.579112e-17   12041.957635   \n",
       "std    1.000001e+00  1.000001e+00  1.000001e+00  1.000001e+00    6919.644449   \n",
       "min   -1.361263e+01 -8.226969e+00 -1.049863e+01 -3.903524e+01      50.010000   \n",
       "25%   -5.541485e-01 -6.318948e-01 -3.049607e-01 -2.318783e-01    6054.892500   \n",
       "50%   -8.193162e-03 -1.189208e-02 -1.729111e-01 -1.392973e-02   12030.150000   \n",
       "75%    5.500147e-01  6.728879e-01  3.340230e-01  4.095903e-01   18036.330000   \n",
       "max    1.462151e+01  5.623285e+00  1.132311e+02  7.725594e+01   24039.930000   \n",
       "\n",
       "          Class  \n",
       "count  568630.0  \n",
       "mean        0.5  \n",
       "std         0.5  \n",
       "min         0.0  \n",
       "25%         0.0  \n",
       "50%         0.5  \n",
       "75%         1.0  \n",
       "max         1.0  \n",
       "\n",
       "[8 rows x 31 columns]"
      ]
     },
     "execution_count": 6,
     "metadata": {},
     "output_type": "execute_result"
    }
   ],
   "source": [
    "# ============================================================================\n",
    "# 3. INITIAL DATA EXPLORATION\n",
    "# ============================================================================\n",
    "\n",
    "print(\"\\n3. Initial Data Exploration...\")\n",
    "\n",
    "df_pandas = df_spark.toPandas()\n",
    "print(f\"Memory Usage: {df_pandas.memory_usage(deep=True).sum() / 1024**2:.2f} MB\")\n",
    "\n",
    "# Basic stats\n",
    "df_pandas.describe()\n",
    "# "
   ]
  },
  {
   "cell_type": "code",
   "execution_count": 7,
   "id": "50b32fe6-6e02-4376-84e4-ae7b33969c8d",
   "metadata": {},
   "outputs": [
    {
     "name": "stdout",
     "output_type": "stream",
     "text": [
      "\n",
      "Missing Values: \n",
      "Series([], dtype: int64)\n",
      "No Missing Values!\n"
     ]
    }
   ],
   "source": [
    "# Check for missing values\n",
    "print(\"\\nMissing Values: \")\n",
    "missing_values = df_pandas.isnull().sum()\n",
    "print(missing_values[missing_values > 0])\n",
    "if missing_values.sum() == 0:\n",
    "    print(\"No Missing Values!\")"
   ]
  },
  {
   "cell_type": "code",
   "execution_count": 8,
   "id": "edfd1a34-2d05-46d9-865e-f36e23563f0d",
   "metadata": {},
   "outputs": [
    {
     "name": "stdout",
     "output_type": "stream",
     "text": [
      "\n",
      "4. Fraud Distribution Analysis...\n",
      "Class Distribution:\n",
      "Normal transactions (Class 0): 284,315(50.000%)\n",
      "Fruad Transactions (Class 1): 284,315(50.000%)\n"
     ]
    }
   ],
   "source": [
    "# ============================================================================\n",
    "# 4. FRAUD DISTRIBUTION ANALYSIS\n",
    "# ============================================================================\n",
    "print(\"\\n4. Fraud Distribution Analysis...\")\n",
    "\n",
    "fraud_distribution = df_pandas[\"Class\"].value_counts()\n",
    "fraud_percentage = df_pandas[\"Class\"].value_counts(normalize=True)*100\n",
    "\n",
    "print(\"Class Distribution:\")\n",
    "print(f\"Normal transactions (Class 0): {fraud_distribution[0]:,}({fraud_percentage[0]:.3f}%)\")\n",
    "print(f\"Fruad Transactions (Class 1): {fraud_distribution[1]:,}({fraud_percentage[1]:.3f}%)\")"
   ]
  },
  {
   "cell_type": "code",
   "execution_count": 9,
   "id": "fa183cfe-488c-47d7-a250-3bddc35bc205",
   "metadata": {},
   "outputs": [
    {
     "data": {
      "image/png": "[encoded data removed]",
      "text/plain": [
       "<Figure size 1200x500 with 2 Axes>"
      ]
     },
     "metadata": {},
     "output_type": "display_data"
    },
    {
     "name": "stdout",
     "output_type": "stream",
     "text": [
      "Note: This 50/50 distribution is unusual from real-world cases.\n",
      "Real Credit Card fraud rates are around 0.1%~0.3%.\n",
      "The balanced dataset allows us to focus on feature engineering and model performance\n"
     ]
    }
   ],
   "source": [
    "# Visualization 1: Class Distribution\n",
    "plt.figure(figsize=(12,5))\n",
    "\n",
    "plt.subplot(1,2,1)\n",
    "fraud_distribution.plot(kind=\"bar\", color=['skyblue', 'salmon'])\n",
    "plt.title(\"Transaction Class Distribution\")\n",
    "plt.xlabel(\"Class (0: Normal, 1: Fraud)\")\n",
    "plt.ylabel(\"Count\")\n",
    "plt.xticks(rotation=0)\n",
    "\n",
    "plt.subplot(1,2,2)\n",
    "plt.pie(fraud_distribution.values, labels=['Normal', 'Fraud'],\n",
    "        autopct='%1.3f%%', colors=['skyblue', 'salmon'])\n",
    "plt.title(\"Fraud vs Normal Transactions\")\n",
    "\n",
    "plt.tight_layout()\n",
    "plt.show()\n",
    "\n",
    "print(\"Note: This 50/50 distribution is unusual from real-world cases.\")\n",
    "print(\"Real Credit Card fraud rates are around 0.1%~0.3%.\")\n",
    "print(\"The balanced dataset allows us to focus on feature engineering and model performance\")"
   ]
  },
  {
   "cell_type": "code",
   "execution_count": 10,
   "id": "c7515fa8-75e9-4abd-a869-0d96ff333d92",
   "metadata": {},
   "outputs": [
    {
     "name": "stdout",
     "output_type": "stream",
     "text": [
      "\n",
      "5. Transaction Amount Analysis...\n",
      "Amount Statistics by Class:\n"
     ]
    },
    {
     "data": {
      "text/html": [
       "<div>\n",
       "<style scoped>\n",
       "    .dataframe tbody tr th:only-of-type {\n",
       "        vertical-align: middle;\n",
       "    }\n",
       "\n",
       "    .dataframe tbody tr th {\n",
       "        vertical-align: top;\n",
       "    }\n",
       "\n",
       "    .dataframe thead th {\n",
       "        text-align: right;\n",
       "    }\n",
       "</style>\n",
       "<table border=\"1\" class=\"dataframe\">\n",
       "  <thead>\n",
       "    <tr style=\"text-align: right;\">\n",
       "      <th></th>\n",
       "      <th>count</th>\n",
       "      <th>mean</th>\n",
       "      <th>std</th>\n",
       "      <th>min</th>\n",
       "      <th>25%</th>\n",
       "      <th>50%</th>\n",
       "      <th>75%</th>\n",
       "      <th>max</th>\n",
       "    </tr>\n",
       "    <tr>\n",
       "      <th>Class</th>\n",
       "      <th></th>\n",
       "      <th></th>\n",
       "      <th></th>\n",
       "      <th></th>\n",
       "      <th></th>\n",
       "      <th></th>\n",
       "      <th></th>\n",
       "      <th></th>\n",
       "    </tr>\n",
       "  </thead>\n",
       "  <tbody>\n",
       "    <tr>\n",
       "      <th>0</th>\n",
       "      <td>284315.0</td>\n",
       "      <td>12026.313506</td>\n",
       "      <td>6929.500715</td>\n",
       "      <td>50.12</td>\n",
       "      <td>6034.54</td>\n",
       "      <td>11996.90</td>\n",
       "      <td>18040.265</td>\n",
       "      <td>24039.93</td>\n",
       "    </tr>\n",
       "    <tr>\n",
       "      <th>1</th>\n",
       "      <td>284315.0</td>\n",
       "      <td>12057.601763</td>\n",
       "      <td>6909.750891</td>\n",
       "      <td>50.01</td>\n",
       "      <td>6074.64</td>\n",
       "      <td>12062.45</td>\n",
       "      <td>18033.780</td>\n",
       "      <td>24039.93</td>\n",
       "    </tr>\n",
       "  </tbody>\n",
       "</table>\n",
       "</div>"
      ],
      "text/plain": [
       "          count          mean          std    min      25%       50%  \\\n",
       "Class                                                                  \n",
       "0      284315.0  12026.313506  6929.500715  50.12  6034.54  11996.90   \n",
       "1      284315.0  12057.601763  6909.750891  50.01  6074.64  12062.45   \n",
       "\n",
       "             75%       max  \n",
       "Class                       \n",
       "0      18040.265  24039.93  \n",
       "1      18033.780  24039.93  "
      ]
     },
     "execution_count": 10,
     "metadata": {},
     "output_type": "execute_result"
    }
   ],
   "source": [
    "# ============================================================================\n",
    "# 5. TRANSACTION AMOUNT ANALYSIS\n",
    "# ============================================================================\n",
    "print(\"\\n5. Transaction Amount Analysis...\")\n",
    "\n",
    "print(\"Amount Statistics by Class:\")\n",
    "amount_stats = df_pandas.groupby('Class')['Amount'].describe()\n",
    "amount_stats"
   ]
  },
  {
   "cell_type": "code",
   "execution_count": 14,
   "id": "839755f5-010e-48f9-87ab-c04d3835317e",
   "metadata": {},
   "outputs": [
    {
     "data": {
      "image/png": "[encoded data removed]",
      "text/plain": [
       "<Figure size 1200x500 with 3 Axes>"
      ]
     },
     "metadata": {},
     "output_type": "display_data"
    }
   ],
   "source": [
    "# Visualization 2: Amount Distribution\n",
    "plt.figure(figsize=(12,5))\n",
    "\n",
    "plt.subplot(1,3,1) # 創造一個1行3列的圖表網格，選擇第一個位置\n",
    "# bins=將金額範圍分割為50個區間，更多bins=更細緻的分布\n",
    "# alpha=transparency\n",
    "plt.hist(df_pandas[df_pandas['Class'] == 0]['Amount'], bins=50, alpha=0.7, label='Normal', color='skyblue')\n",
    "plt.hist(df_pandas[df_pandas['Class'] == 1]['Amount'], bins=50, alpha=0.7, label='Normal', color='salmon')\n",
    "plt.xlabel(\"Transaction Amount\")\n",
    "plt.ylabel(\"Frequency\")\n",
    "plt.title(\"Amount Distribution by Class\")\n",
    "plt.legend()\n",
    "plt.yscale(\"log\") # log scale due to class imbalance\n",
    "# 何時使用log scale? 數據跨度很大(1vs1000)、極度不平衡的分類問題、金融數據\n",
    "\n",
    "plt.subplot(1,3,2)\n",
    "df_pandas.boxplot(column=\"Amount\", by=\"Class\", ax=plt.gca())\n",
    "plt.title(\"Amount Distribution by Class (Boxplot)\")\n",
    "plt.suptitle('')\n",
    "\n",
    "plt.subplot(1,3,3)\n",
    "# Focus on smaller amounts for better visibility\n",
    "amount_limit = df_pandas['Amount'].quantile(0.95)\n",
    "subset = df_pandas[df_pandas['Amount']<=amount_limit]\n",
    "plt.hist(subset[subset['Class'] == 0]['Amount'], bins=50, alpha=0.5, label=\"Normal\", color='skyblue')\n",
    "plt.hist(subset[subset['Class'] == 1]['Amount'], bins=50, alpha=0.5, label=\"Fraud\", color='salmon')\n",
    "plt.xlabel(\"Transaction Amount\")\n",
    "plt.ylabel(\"Frequency\")\n",
    "plt.title(f\"Amount Distribution (≤ ${amount_limit:.0f})\")\n",
    "plt.legend()\n",
    "\n",
    "plt.tight_layout()\n",
    "plt.show()"
   ]
  },
  {
   "cell_type": "code",
   "execution_count": 30,
   "id": "3a40dfa7-e4d6-4005-83c0-1aa08555e0b8",
   "metadata": {},
   "outputs": [],
   "source": [
    "# Patterns using amount as an indicator are quite similar, meaning we can't use a single feature to predict frauds"
   ]
  },
  {
   "cell_type": "code",
   "execution_count": 15,
   "id": "fa8b7928-82a0-4a71-92e4-c5dfc177f345",
   "metadata": {},
   "outputs": [
    {
     "name": "stdout",
     "output_type": "stream",
     "text": [
      "\n",
      "6. Transaction ID Analysis...\n",
      "Unique IDs: 568630\n",
      "Total Records: 568630\n",
      "ID Uniqueness: True\n",
      "ID Range: 0 to 568629\n"
     ]
    }
   ],
   "source": [
    "# ============================================================================\n",
    "# 6. ID FIELD ANALYSIS (NEW IN 2023 DATASET)\n",
    "# ============================================================================\n",
    "print(\"\\n6. Transaction ID Analysis...\")\n",
    "\n",
    "# Check ID field uniqueness\n",
    "unique_ids = df_pandas['id'].nunique()\n",
    "total_records = len(df_pandas)\n",
    "print(f\"Unique IDs: {unique_ids}\")\n",
    "print(f\"Total Records: {total_records}\")\n",
    "print(f\"ID Uniqueness: {unique_ids == total_records}\")\n",
    "# Every ID is unique\n",
    "\n",
    "# Check for an patterns in IDs\n",
    "print(f\"ID Range: {df_pandas['id'].min()} to {df_pandas['id'].max()}\")"
   ]
  },
  {
   "cell_type": "code",
   "execution_count": 16,
   "id": "c3b6f80d-6644-4112-80e3-ca286dcc6ee0",
   "metadata": {},
   "outputs": [
    {
     "name": "stdout",
     "output_type": "stream",
     "text": [
      "\n",
      "7. Feature Correlation Analysis...\n",
      "Top 10 features correlated with fraud: \n",
      "Class    1.000000\n",
      "V14      0.805669\n",
      "V12      0.768579\n",
      "V4       0.735981\n",
      "V11      0.724278\n",
      "V3       0.682095\n",
      "V10      0.673665\n",
      "V9       0.585522\n",
      "V16      0.573511\n",
      "V1       0.505761\n",
      "Name: Class, dtype: float64\n"
     ]
    }
   ],
   "source": [
    "# ============================================================================\n",
    "# 7. FEATURE CORRELATION ANALYSIS\n",
    "# ============================================================================\n",
    "print(\"\\n7. Feature Correlation Analysis...\")\n",
    "\n",
    "# Select features for correlation analysis (excluding ID)\n",
    "feature_cols = [col for col in df_pandas.columns if col.startswith(\"V\")] + [\"Amount\", \"Class\"] # 篩選出所有以\"V\"開頭的欄位\n",
    "correlation_matrix = df_pandas[feature_cols].corr()\n",
    "\n",
    "# Plot correlation with target variable\n",
    "target_corr = correlation_matrix['Class'].abs().sort_values(ascending=False)\n",
    "print(\"Top 10 features correlated with fraud: \")\n",
    "print(target_corr.head(10))"
   ]
  },
  {
   "cell_type": "code",
   "execution_count": 17,
   "id": "e14051ec-742a-47d0-bf7a-3d5dfa97cd65",
   "metadata": {},
   "outputs": [
    {
     "data": {
      "image/png": "[encoded data removed]",
      "text/plain": [
       "<Figure size 1200x800 with 1 Axes>"
      ]
     },
     "metadata": {},
     "output_type": "display_data"
    }
   ],
   "source": [
    "plt.figure(figsize=(12,8))\n",
    "target_corr[1:11].plot(kind='bar')\n",
    "plt.title(\"Top 10 Features Correlation with Fraud (Absolute Values)\")\n",
    "plt.xlabel(\"Feature\")\n",
    "plt.ylabel(\"Absolute Correlation\")\n",
    "plt.xticks(rotation=45)\n",
    "plt.tight_layout()\n",
    "plt.show()"
   ]
  },
  {
   "cell_type": "code",
   "execution_count": 18,
   "id": "996f7b9c-95e9-413f-8e61-268284ecbd87",
   "metadata": {},
   "outputs": [
    {
     "name": "stdout",
     "output_type": "stream",
     "text": [
      "\n",
      "8. Key Business Insights from Initial Analysis:\n",
      "============================================================\n",
      "\n",
      "📊 Dataset Overview:\n",
      "   • Total transactions: 568,630\n",
      "   • Fraud rate: 50.000%\n",
      "   • Data from: 2023 European cardholders\n",
      "   • Unique transaction IDs: 568,630\n",
      "\n",
      "💰 Financial Impact:\n",
      "   • Total transaction volume: $6,847,418,369.75\n",
      "   • Fraud transaction volume: $3,428,157,045.35\n",
      "   • Fraud amount percentage: 50.065%\n",
      "   • Average fraud transaction: $12057.60\n",
      "   • Average normal transaction: $12026.31\n",
      "\n",
      "⚠️  Risk Modeling Challenges:\n",
      "   • Balanced dataset: 50.0% vs 50.0%\n",
      "   • Focus on precision/recall optimization\n",
      "   • PCA features (V1-V28) require careful interpretation\n",
      "   • No temporal features available for time-based analysis\n",
      "\n",
      "🎯 Next Steps for Model Development:\n",
      "   • Leverage balanced dataset for robust training\n",
      "   • Focus on feature engineering with V1-V28 and Amount\n",
      "   • Implement proper cross-validation strategy\n",
      "   • Focus on precision/recall rather than accuracy\n",
      "   • Create synthetic time features if needed\n"
     ]
    }
   ],
   "source": [
    "# ============================================================================\n",
    "# 8. BUSINESS INSIGHTS SUMMARY\n",
    "# ============================================================================\n",
    "print(\"\\n8. Key Business Insights from Initial Analysis:\")\n",
    "print(\"=\" * 60)\n",
    "\n",
    "total_transactions = len(df_pandas)\n",
    "total_fraud = fraud_distribution[1]\n",
    "total_amount = df_pandas['Amount'].sum()\n",
    "fraud_amount = df_pandas[df_pandas['Class'] == 1]['Amount'].sum()\n",
    "\n",
    "print(f\"\\n📊 Dataset Overview:\")\n",
    "print(f\"   • Total transactions: {total_transactions:,}\")\n",
    "print(f\"   • Fraud rate: {fraud_percentage[1]:.3f}%\")\n",
    "print(f\"   • Data from: 2023 European cardholders\")\n",
    "print(f\"   • Unique transaction IDs: {df_pandas['id'].nunique():,}\")\n",
    "\n",
    "print(f\"\\n💰 Financial Impact:\")\n",
    "print(f\"   • Total transaction volume: ${total_amount:,.2f}\")\n",
    "print(f\"   • Fraud transaction volume: ${fraud_amount:,.2f}\")\n",
    "print(f\"   • Fraud amount percentage: {fraud_amount/total_amount*100:.3f}%\")\n",
    "print(f\"   • Average fraud transaction: ${df_pandas[df_pandas['Class']==1]['Amount'].mean():.2f}\")\n",
    "print(f\"   • Average normal transaction: ${df_pandas[df_pandas['Class']==0]['Amount'].mean():.2f}\")\n",
    "\n",
    "print(f\"\\n⚠️  Risk Modeling Challenges:\")\n",
    "if fraud_percentage[1] > 10:  # Check if dataset is balanced\n",
    "    print(f\"   • Balanced dataset: {fraud_percentage[0]:.1f}% vs {fraud_percentage[1]:.1f}%\")\n",
    "    print(f\"   • Focus on precision/recall optimization\")\n",
    "else:\n",
    "    print(f\"   • Class imbalance: {fraud_percentage[0]:.1f}% vs {fraud_percentage[1]:.3f}%\")\n",
    "    print(f\"   • Need specialized sampling/evaluation metrics\")\n",
    "print(f\"   • PCA features (V1-V28) require careful interpretation\")\n",
    "print(f\"   • No temporal features available for time-based analysis\")\n",
    "\n",
    "print(f\"\\n🎯 Next Steps for Model Development:\")\n",
    "if fraud_percentage[1] > 10:\n",
    "    print(f\"   • Leverage balanced dataset for robust training\")\n",
    "    print(f\"   • Focus on feature engineering with V1-V28 and Amount\")\n",
    "else:\n",
    "    print(f\"   • Address class imbalance with SMOTE/undersampling\")\n",
    "print(f\"   • Implement proper cross-validation strategy\")\n",
    "print(f\"   • Focus on precision/recall rather than accuracy\")\n",
    "print(f\"   • Create synthetic time features if needed\")"
   ]
  },
  {
   "cell_type": "code",
   "execution_count": 1,
   "id": "815cfcfd-37cf-4128-88de-486d4e10649e",
   "metadata": {},
   "outputs": [],
   "source": [
    "# Feature Engineering 特徵工程\n",
    "from pyspark.sql.window import Window\n",
    "from pyspark.ml.feature import VectorAssembler, StandardScaler, PCA\n",
    "from pyspark.ml.stat import Correlation\n",
    "from pyspark.ml import Pipeline"
   ]
  },
  {
   "cell_type": "code",
   "execution_count": 19,
   "id": "5c49893b-ae18-46b4-b850-9dded700299b",
   "metadata": {},
   "outputs": [
    {
     "name": "stdout",
     "output_type": "stream",
     "text": [
      "\n",
      "1. Setting up Spark Session for Advanced Feature Engineering...\n",
      "Spark Version: 4.0.0\n",
      "Spark UI: http://10.74.245.116:4040\n"
     ]
    },
    {
     "name": "stderr",
     "output_type": "stream",
     "text": [
      "25/07/28 07:55:02 WARN SparkSession: Using an existing Spark session; only runtime SQL configurations will take effect.\n"
     ]
    }
   ],
   "source": [
    "# ============================================================================\n",
    "# 1. SPARK SESSION SETUP AND DATA LOADING\n",
    "# ============================================================================\n",
    "print(\"\\n1. Setting up Spark Session for Advanced Feature Engineering...\")\n",
    "\n",
    "spark = SparkSession.builder \\\n",
    "    .appName(\"FraudDetection_FeatureEngineering\") \\\n",
    "    .config(\"spark.driver.memory\", \"6g\") \\\n",
    "    .config(\"spark.sql.adaptive.enabled\", \"true\") \\\n",
    "    .config(\"spark.sql.adaptive.coalescePartitions.enabled\", \"true\") \\\n",
    "    .config(\"spark.sql.adaptive.skewJoin.enabled\", \"true\") \\\n",
    "    .getOrCreate()\n",
    "\n",
    "print(f\"Spark Version: {spark.version}\")\n",
    "print(f\"Spark UI: {spark.sparkContext.uiWebUrl}\")"
   ]
  },
  {
   "cell_type": "code",
   "execution_count": 33,
   "id": "7882ac7b-3b62-4793-9746-33c372211167",
   "metadata": {},
   "outputs": [
    {
     "name": "stderr",
     "output_type": "stream",
     "text": [
      "25/07/28 08:15:15 WARN CacheManager: Asked to cache already cached data.        \n"
     ]
    }
   ],
   "source": [
    "df = spark.read.csv(\"creditcard_2023.csv\", header=True, inferSchema=True)\n",
    "df = df.cache()\n",
    "# 什麼是cache? 可以將數據暫存在記憶體中，避免重複從磁碟讀取，以加速後續操作\n",
    "df.createOrReplaceTempView(\"transactions\")\n",
    "stats_result = spark.sql(stats_sql)"
   ]
  },
  {
   "cell_type": "code",
   "execution_count": 34,
   "id": "6d98520c-ca23-4a09-9acb-934531cb410a",
   "metadata": {},
   "outputs": [
    {
     "name": "stdout",
     "output_type": "stream",
     "text": [
      "\n",
      "2. Computing Advanced Statistics with Spark SQL...\n",
      "Amount Statistics by Class: \n"
     ]
    },
    {
     "name": "stderr",
     "output_type": "stream",
     "text": [
      "[Stage 11:>                                                         (0 + 8) / 8]\r"
     ]
    },
    {
     "name": "stdout",
     "output_type": "stream",
     "text": [
      "+-----+-----------------+----------+-------------+----------+----------+----------+-------------+----------+----------+\n",
      "|Class|transaction_count|avg_amount|stddev_amount|min_amount|max_amount|q25_amount|median_amount|q75_amount|p95_amount|\n",
      "+-----+-----------------+----------+-------------+----------+----------+----------+-------------+----------+----------+\n",
      "|    0|           284315|  12026.31|       6929.5|     50.12|  24039.93|   6034.51|     11996.35|  18039.55|  22842.05|\n",
      "|    1|           284315|   12057.6|      6909.75|     50.01|  24039.93|   6074.14|     12062.01|  18031.51|  22828.18|\n",
      "+-----+-----------------+----------+-------------+----------+----------+----------+-------------+----------+----------+\n",
      "\n"
     ]
    },
    {
     "name": "stderr",
     "output_type": "stream",
     "text": [
      "                                                                                \r"
     ]
    }
   ],
   "source": [
    "# ============================================================================\n",
    "# 2. BASIC FEATURE STATISTICS WITH SPARK SQL\n",
    "# ============================================================================\n",
    "print(\"\\n2. Computing Advanced Statistics with Spark SQL...\")\n",
    "\n",
    "stats_sql = \"\"\"\n",
    "SELECT \n",
    "    Class,\n",
    "    COUNT(*) as transaction_count,\n",
    "    ROUND(AVG(Amount), 2) as avg_amount,\n",
    "    ROUND(STDDEV(Amount), 2) as stddev_amount,\n",
    "    ROUND(MIN(Amount), 2) as min_amount,\n",
    "    ROUND(MAX(Amount), 2) as max_amount,\n",
    "    ROUND(PERCENTILE_APPROX(Amount, 0.25), 2) as q25_amount,\n",
    "    ROUND(PERCENTILE_APPROX(Amount, 0.5), 2) as median_amount,\n",
    "    ROUND(PERCENTILE_APPROX(Amount, 0.75), 2) as q75_amount,\n",
    "    ROUND(PERCENTILE_APPROX(Amount, 0.95), 2) as p95_amount\n",
    "FROM transactions \n",
    "GROUP BY Class\n",
    "ORDER BY Class\n",
    "\"\"\"\n",
    "\n",
    "stats_result = spark.sql(stats_sql)\n",
    "print(\"Amount Statistics by Class: \")\n",
    "stats_result.show()"
   ]
  },
  {
   "cell_type": "code",
   "execution_count": 45,
   "id": "954065e8-bf0c-4cce-a7a6-a7875b2cff60",
   "metadata": {},
   "outputs": [
    {
     "name": "stdout",
     "output_type": "stream",
     "text": [
      "\n",
      "3. Creating Advanced Features with Spark...\n",
      "Feature engineering completed. New features added:\n",
      "  • amount_log\n",
      "  • amount_sqrt\n",
      "  • amount_squared\n",
      "  • v_sum\n",
      "  • v_mean\n",
      "  • amount_zscore\n",
      "  • amount_outlier\n",
      "  • amount_above_p90\n",
      "  • amount_above_p95\n",
      "  • v1_v2_interaction\n",
      "  • v1_amount_ratio\n",
      "  • v_features_range\n"
     ]
    }
   ],
   "source": [
    "# ============================================================================\n",
    "# 3. ADVANCED FEATURE ENGINEERING\n",
    "# ============================================================================\n",
    "print(\"\\n3. Creating Advanced Features with Spark...\")\n",
    "\n",
    "# 3.1 Amount Based Features\n",
    "# log1p = log(1+x)，可以用來解決金融數據中為0的數據，減少極端值的影響\n",
    "\n",
    "df_features = df.withColumn(\"amount_log\", log1p(col(\"Amount\"))) \\\n",
    "                .withColumn(\"amount_sqrt\", sqrt(col(\"Amount\"))) \\\n",
    "                .withColumn(\"amount_squared\", pow(col(\"Amount\"), 2)) \n",
    "# if using pandas\n",
    "# df['amount_log'] = np.log1p(df['Amount'])\n",
    "# df['amount_sqrt'] = np.sqrt(df['Amount'])\n",
    "# df['amount_squared'] = df['Amount']**2\n",
    "\n",
    "# 3.2 Statistical features from V columns\n",
    "v_columns = [f\"V{i}\" for i in range(1, 29)]\n",
    "\n",
    "# Calculate sum and mean of V features\n",
    "v_sum_expr = col(\"V1\")\n",
    "for v_col in v_columns[1:]:  \n",
    "    v_sum_expr = v_sum_expr + col(v_col)\n",
    "\n",
    "df_features = df_features.withColumn(\"v_sum\", v_sum_expr) \\\n",
    "                        .withColumn(\"v_mean\", v_sum_expr / lit(len(v_columns)))\n",
    "\n",
    "# 3.3 Outlier Detection Features\n",
    "# Z-score for amount (using Window functions for efficiency)\n",
    "amount_stats = df_features.select(\n",
    "    mean('Amount').alias('amount_mean'),\n",
    "    stddev('Amount').alias('amount_std')\n",
    ").collect()[0]\n",
    "\n",
    "# 計算Z-score\n",
    "df_features = df_features.withColumn(\"amount_zscore\",\n",
    "                                     (col(\"Amount\") - lit(amount_stats[\"amount_mean\"])) / lit(amount_stats['amount_std']))\n",
    "\n",
    "# Outlier Flags\n",
    "df_features = df_features.withColumn(\"amount_outlier\",\n",
    "                                     when(abs(col(\"amount_zscore\")) > 3, 1).otherwise(0))\n",
    "\n",
    "# 3.4 Percentile-based features\n",
    "amount_percentiles = df_features.select(\n",
    "    expr(\"percentile_approx(Amount, 0.25)\").alias(\"p25\"),\n",
    "    expr(\"percentile_approx(Amount, 0.75)\").alias(\"p75\"),\n",
    "    expr(\"percentile_approx(Amount, 0.90)\").alias(\"p90\"),\n",
    "    expr(\"percentile_approx(Amount, 0.95)\").alias(\"p95\")\n",
    ").collect()[0]\n",
    "\n",
    "df_features = df_features.withColumn(\"amount_above_p90\",\n",
    "                                     when(col(\"Amount\")>lit(amount_percentiles['p90']),1).otherwise(0)) \\\n",
    "                                    .withColumn(\"amount_above_p95\",\n",
    "                                                when(col(\"Amount\")>lit(amount_percentiles['p95']),1).otherwise(0))\n",
    "\n",
    "# 3.5 V-feature interactions\n",
    "df_features = df_features.withColumn(\"v1_v2_interaction\", col(\"V1\") * col(\"V2\")) \\\n",
    "                        .withColumn(\"v1_amount_ratio\", col(\"V1\") / (col(\"Amount\") + 1)) \\\n",
    "                        .withColumn(\"v_features_range\", \n",
    "                            greatest(*[col(c) for c in v_columns[:10]]) - \n",
    "                            least(*[col(c) for c in v_columns[:10]]))        \n",
    "\n",
    "print(\"Feature engineering completed. New features added:\")\n",
    "new_features = [\"amount_log\", \"amount_sqrt\", \"amount_squared\", \"v_sum\", \"v_mean\", \n",
    "               \"amount_zscore\", \"amount_outlier\", \"amount_above_p90\", \"amount_above_p95\",\n",
    "               \"v1_v2_interaction\", \"v1_amount_ratio\", \"v_features_range\"]\n",
    "for feature in new_features:\n",
    "    print(f\"  • {feature}\")"
   ]
  },
  {
   "cell_type": "code",
   "execution_count": null,
   "id": "a4323cb8-c6fd-491a-9af6-415bc2a788aa",
   "metadata": {},
   "outputs": [],
   "source": []
  },
  {
   "cell_type": "code",
   "execution_count": null,
   "id": "5ba565b1-cfd4-4112-9f0e-f9be1444faaa",
   "metadata": {},
   "outputs": [],
   "source": []
  },
  {
   "cell_type": "code",
   "execution_count": null,
   "id": "6edd2349-92a9-4075-a096-09a60ead47e0",
   "metadata": {},
   "outputs": [],
   "source": []
  },
  {
   "cell_type": "code",
   "execution_count": null,
   "id": "f9025e75-166f-437a-b30d-48c74e38621f",
   "metadata": {},
   "outputs": [],
   "source": []
  },
  {
   "cell_type": "code",
   "execution_count": null,
   "id": "91f7bc7d-36a1-4c96-8402-484198c96a87",
   "metadata": {},
   "outputs": [],
   "source": []
  },
  {
   "cell_type": "code",
   "execution_count": null,
   "id": "4e5c95a7-8206-4387-8c36-735b30d9dd81",
   "metadata": {},
   "outputs": [],
   "source": []
  },
  {
   "cell_type": "code",
   "execution_count": null,
   "id": "fb5145a8-6a85-455c-8220-b59ad62ce41b",
   "metadata": {},
   "outputs": [],
   "source": []
  },
  {
   "cell_type": "code",
   "execution_count": null,
   "id": "1bf5f8d9-ce18-4835-b776-5bc4dfc4fa2c",
   "metadata": {},
   "outputs": [],
   "source": []
  },
  {
   "cell_type": "code",
   "execution_count": null,
   "id": "85e066ef-c670-4090-a899-8feee9646e4c",
   "metadata": {},
   "outputs": [],
   "source": []
  },
  {
   "cell_type": "code",
   "execution_count": null,
   "id": "d581b1da-95c9-405f-a674-3bec345bc588",
   "metadata": {},
   "outputs": [],
   "source": []
  },
  {
   "cell_type": "code",
   "execution_count": null,
   "id": "38adef0a-f52b-4ae4-8a35-fa5e33014776",
   "metadata": {},
   "outputs": [],
   "source": []
  },
  {
   "cell_type": "code",
   "execution_count": null,
   "id": "06b8ae3b-3d75-4823-9cc8-50070eca2770",
   "metadata": {},
   "outputs": [],
   "source": []
  },
  {
   "cell_type": "code",
   "execution_count": null,
   "id": "4793b14b-1fb6-4d4a-a96b-c83742cdd345",
   "metadata": {},
   "outputs": [],
   "source": []
  },
  {
   "cell_type": "code",
   "execution_count": null,
   "id": "4cb3c5a7-e0ea-45c1-b517-5a2168773060",
   "metadata": {},
   "outputs": [],
   "source": []
  },
  {
   "cell_type": "code",
   "execution_count": null,
   "id": "1004d8ba-30aa-47cc-81cb-44ca176415ec",
   "metadata": {},
   "outputs": [],
   "source": []
  }
 ],
 "metadata": {
  "kernelspec": {
   "display_name": "Python 3 (ipykernel)",
   "language": "python",
   "name": "python3"
  },
  "language_info": {
   "codemirror_mode": {
    "name": "ipython",
    "version": 3
   },
   "file_extension": ".py",
   "mimetype": "text/x-python",
   "name": "python",
   "nbconvert_exporter": "python",
   "pygments_lexer": "ipython3",
   "version": "3.12.2"
  }
 },
 "nbformat": 4,
 "nbformat_minor": 5
}
